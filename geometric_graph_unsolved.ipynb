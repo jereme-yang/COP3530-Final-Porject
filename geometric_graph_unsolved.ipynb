{
  "nbformat": 4,
  "nbformat_minor": 0,
  "metadata": {
    "colab": {
      "provenance": [],
      "include_colab_link": true
    },
    "kernelspec": {
      "name": "python3",
      "display_name": "Python 3"
    },
    "language_info": {
      "name": "python"
    }
  },
  "cells": [
    {
      "cell_type": "markdown",
      "metadata": {
        "id": "view-in-github",
        "colab_type": "text"
      },
      "source": [
        "<a href=\"https://colab.research.google.com/github/jereme-yang/COP3530-Final-Project/blob/main/geometric_graph_unsolved.ipynb\" target=\"_parent\"><img src=\"https://colab.research.google.com/assets/colab-badge.svg\" alt=\"Open In Colab\"/></a>"
      ]
    },
    {
      "cell_type": "markdown",
      "source": [
        "# From shape to graphs\n",
        "\n",
        "The idea is to have a little warm up. Hopefully everything I ask you to do is intuitive and you can come up with it on your own (maybe with small hints). Let's see how it goes. If necessary, we'll review the basics next time and show solutions, so no worries."
      ],
      "metadata": {
        "id": "eMGoXUgRa87V"
      }
    },
    {
      "cell_type": "markdown",
      "source": [
        "Given a point cloud $P ⊂ \\mathbb{R}^n$, we interpret it as\n",
        "the centers of (Euclidean) balls, $B(c;r) = \\{x \\in \\mathbb{R}^n : \\|c-x\\|_2 \\le r  \\}$, all with the same radius $r \\ge 0$.\n",
        "\n",
        "> Such a point cloud represent an atomic configuration, or a bunch of text-documents, or a scan of an object a robot is meant to grab... For simplicity we'll work with random 2D data for now.\n",
        "\n",
        "We are interested if the union of the balls at some radius $r$, $U = \\bigcup_{c\\in P}B(c;r)$, is connected, i.e. consists of only one part, intuitively speaking.\n",
        "\n",
        "> Topologists! Technically we could talk about *path connectivity*, which means that we can move via a path (contained in our space) between any two points in our space. For metric spaces, like ours, this implies connectivity. All the spaces we consider will be nice, so we don't have to worry about the usual pathological cases.\n",
        "\n",
        "This can easily be turned into a graph problem. By a graph we mean $(V,E)$, in which $V$ is a set of vertices (points, nodes) and $E \\subset V \\times V$ is a set of edges (pairs of vertices). A graph is connected if and only if there is path (sequence of edges) joining each pair of vertices.\n",
        "\n",
        "> Technically, we are currently working with *undirected graphs*, so each edge goes both ways."
      ],
      "metadata": {
        "id": "ShpIUbNBSJom"
      }
    },
    {
      "cell_type": "markdown",
      "source": [
        "Some useful (but boring) functions I wrote for you."
      ],
      "metadata": {
        "id": "Af5qesG_cRrx"
      }
    },
    {
      "cell_type": "code",
      "source": [
        "import numpy as np\n",
        "import matplotlib.pyplot as plt\n",
        "\n",
        "\n",
        "def draw_points(X):\n",
        "  plt.scatter(*zip(*X), color='k')\n",
        "  plt.axis('equal')\n",
        "\n",
        "\n",
        "def draw_segment(a,b):\n",
        "  plt.plot([a[0], b[0]],[a[1], b[1]], color='g')\n",
        "\n",
        "\n",
        "def draw_ball(c, r):\n",
        "  ball = plt.Circle(c, radius=r, color='b', alpha=0.3)\n",
        "  plt.gca().add_artist(ball)\n",
        "\n",
        "\n",
        "def eucl_dist(p, q):\n",
        "  return np.linalg.norm(p-q)"
      ],
      "metadata": {
        "id": "08ZfQ1GiUB25"
      },
      "execution_count": null,
      "outputs": []
    },
    {
      "cell_type": "code",
      "source": [
        "np.random.seed(120)\n",
        "P = np.random.rand(100, 2) # our points in 2D\n",
        "draw_points(P)\n",
        "# run this cell to see the points!"
      ],
      "metadata": {
        "id": "TGBy6GhBUFaK"
      },
      "execution_count": null,
      "outputs": []
    },
    {
      "cell_type": "markdown",
      "source": [
        "# Task 0:\n",
        "Using the above functions, draw the balls at some chosen radius. Try to\n",
        "manually find the (roughly) smallest radius s.t. the union of the balls is connected."
      ],
      "metadata": {
        "id": "eru0pTyLW4LI"
      }
    },
    {
      "cell_type": "code",
      "source": [],
      "metadata": {
        "id": "rLG59a28Wa1I"
      },
      "execution_count": null,
      "outputs": []
    },
    {
      "cell_type": "markdown",
      "source": [
        "# Representing graphs: adjacency list\n",
        "You can assume the vertices of our graph are identified by integers $0,1,\\dots, n-1=|V|-1$. One convenient way of storing a graph on a computer is via an\n",
        "*adjacency list*. An adjacency list representation of a graph is just an list (of size $n$) of lists, each containing the (indices of) vertices adjacent to the $i$-th vertes.\n",
        "\n",
        "> By a list we mean a python list aka an array of elements (and not a *linked list*)\n",
        "\n",
        "E.g. [[1,2],[0,2],[0,1]] is a graph that looks like a triangle, when drawn nicely."
      ],
      "metadata": {
        "id": "7eeJd4OLv7IM"
      }
    },
    {
      "cell_type": "markdown",
      "source": [
        "# Task 1:\n",
        "Given point cloud $P$ and radius $r$, construct a graph $G$ s.t. $G$ is connected iff the union of balls around $P$ with radius $r$ (we called $U$) is connected.\n",
        "\n",
        "> iff is a lazy (hence popular) shortcut for 'if and only if' (logical equivalence; implication in both directions)\n",
        "\n",
        "\n",
        "> If you know multiple such constructions, just pick one that is the easiest to compute. We'll talk about more complicated alternatives in detail later.\n",
        "\n",
        "\n",
        "\n",
        "Could you sketch a proof of correctness of the construction you have in mind?\n",
        "\n",
        "> Tip: think about balls around two points $p,q$ with the same radius $r$. At what radius is the union of these two balls connected?\n",
        "\n",
        "> Python tip: enumerate function is super useful!\n",
        "\n",
        "\n",
        "\n",
        "\n"
      ],
      "metadata": {
        "id": "YfbzoHOUUAZ4"
      }
    },
    {
      "cell_type": "code",
      "source": [
        "def construct_graph(P, r):\n",
        "  pass"
      ],
      "metadata": {
        "id": "IqWmHBFRUBVZ"
      },
      "execution_count": null,
      "outputs": []
    },
    {
      "cell_type": "markdown",
      "source": [
        "# Task 1.1\n",
        "Draw your graph using the functions defined above. Does it indeed look connected at the radius you previously estimated? If not, you likely made a silly mistake in Task 1.\n",
        "\n",
        "> Admittedly, it'd be easier to draw it using just a list of edges, but most algorithms work naturally with an adjacency list)"
      ],
      "metadata": {
        "id": "mPDsM_z7ZezI"
      }
    },
    {
      "cell_type": "code",
      "source": [
        "def draw_graph(G, P):\n",
        "  '''\n",
        "  G is the graph represented by an adjacency list\n",
        "  P are the positions of the vertices of the graph\n",
        "  '''\n",
        "  pass"
      ],
      "metadata": {
        "id": "VPBO9oHAcKB8"
      },
      "execution_count": null,
      "outputs": []
    },
    {
      "cell_type": "code",
      "source": [
        "# use the functions to draw the graph"
      ],
      "metadata": {
        "id": "eRL09ByDfpUG"
      },
      "execution_count": null,
      "outputs": []
    },
    {
      "cell_type": "markdown",
      "source": [
        "# Task 2 (slightly harder)\n",
        "Come up with an algorithm which checks if a given graph $G$ is connected."
      ],
      "metadata": {
        "id": "68tQwi37ZzQv"
      }
    },
    {
      "cell_type": "code",
      "source": [
        "def is_connected(G):\n",
        "  '''Returns True if G is connected, False otherwise'''\n",
        "  pass"
      ],
      "metadata": {
        "id": "-6Bi6hz7aELR"
      },
      "execution_count": null,
      "outputs": []
    },
    {
      "cell_type": "markdown",
      "source": [
        "# Task 2.1\n",
        "Use your new function to find a better approximation for the smallest radius at which the graph (and hence our union of balls) is connected.\n",
        "\n",
        "> Tip: you can do this very quickly with very high precision!"
      ],
      "metadata": {
        "id": "TL0l392FaE0N"
      }
    },
    {
      "cell_type": "code",
      "source": [],
      "metadata": {
        "id": "AlcMydhuZyVb"
      },
      "execution_count": null,
      "outputs": []
    },
    {
      "cell_type": "markdown",
      "source": [
        "# Coming next\n",
        "\n",
        "Next will talk about faster ways of doing the above --- and more.\n",
        "\n",
        "Much later we will learn to construct higher-dimensional analogs of graphs (simplicial complexes) that will provably capture higher-degree analogs of connectivity (homology groups), for all radii at once. It will work even in weird non-metric generalizations of the Euclidean distance."
      ],
      "metadata": {
        "id": "x30vsRdDaUpP"
      }
    }
  ]
}